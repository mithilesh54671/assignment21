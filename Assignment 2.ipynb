{
  "metadata": {
    "kernelspec": {
      "name": "python",
      "display_name": "Python (Pyodide)",
      "language": "python"
    },
    "language_info": {
      "codemirror_mode": {
        "name": "python",
        "version": 3
      },
      "file_extension": ".py",
      "mimetype": "text/x-python",
      "name": "python",
      "nbconvert_exporter": "python",
      "pygments_lexer": "ipython3",
      "version": "3.8"
    }
  },
  "nbformat_minor": 4,
  "nbformat": 4,
  "cells": [
    {
      "cell_type": "code",
      "source": "#Q1. Is there any difference in the data type of variables list_ and array_list? If there is then write a code\n#to print the data types of both the variables.",
      "metadata": {
        "trusted": true,
        "tags": [],
        "editable": true,
        "slideshow": {
          "slide_type": ""
        }
      },
      "outputs": [],
      "execution_count": 1
    },
    {
      "cell_type": "code",
      "source": "import numpy as np\n\n# Create a Python list\nlist_ = [1, 2, 3, 4, 5]\n\n# Create a NumPy array\narray_list = np.array([1, 2, 3, 4, 5])\n\n# Print data types of both variables\nprint(f\"Data type of list_: {type(list_)}\")\nprint(f\"Data type of array_list: {type(array_list)}\")\n",
      "metadata": {
        "trusted": true
      },
      "outputs": [
        {
          "name": "stdout",
          "text": "Data type of list_: <class 'list'>\nData type of array_list: <class 'numpy.ndarray'>\n",
          "output_type": "stream"
        }
      ],
      "execution_count": 2
    },
    {
      "cell_type": "code",
      "source": "#Q2. Write a code to print the data type of each and every element of both the variables list_ and\n#arra_list.\n",
      "metadata": {
        "trusted": true
      },
      "outputs": [],
      "execution_count": 4
    },
    {
      "cell_type": "code",
      "source": "import numpy as np\n\n# Create a Python list\nlist_ = [1, 2, 3, 4, 5]\n\n# Create a NumPy array\narray_list = np.array([1, 2, 3, 4, 5])\n\n# Print data type of each element in list_\nprint(\"Data types of elements in list_:\")\nfor element in list_:\n    print(f\"Element: {element}, Data type: {type(element)}\")\n\n# Print data type of each element in array_list\nprint(\"\\nData types of elements in array_list:\")\nfor element in array_list:\n    print(f\"Element: {element}, Data type: {type(element)}\")\n",
      "metadata": {
        "trusted": true
      },
      "outputs": [
        {
          "name": "stdout",
          "text": "Data types of elements in list_:\nElement: 1, Data type: <class 'int'>\nElement: 2, Data type: <class 'int'>\nElement: 3, Data type: <class 'int'>\nElement: 4, Data type: <class 'int'>\nElement: 5, Data type: <class 'int'>\n\nData types of elements in array_list:\nElement: 1, Data type: <class 'numpy.int32'>\nElement: 2, Data type: <class 'numpy.int32'>\nElement: 3, Data type: <class 'numpy.int32'>\nElement: 4, Data type: <class 'numpy.int32'>\nElement: 5, Data type: <class 'numpy.int32'>\n",
          "output_type": "stream"
        }
      ],
      "execution_count": 5
    },
    {
      "cell_type": "code",
      "source": "#Q3. Considering the following changes in the variable, array_list:\n#array_list = np.array(object = list_, dtype = int)",
      "metadata": {
        "trusted": true
      },
      "outputs": [],
      "execution_count": 7
    },
    {
      "cell_type": "code",
      "source": "import numpy as np\n\n# Create a Python list\nlist_ = [1.5, 2.3, 3.8, 4.1, 5.7]\n\n# Create a NumPy array from list_, with dtype set to int\narray_list = np.array(object=list_, dtype=int)\n\n# Print the original list\nprint(\"Original list_ elements and their types:\")\nfor element in list_:\n    print(f\"Element: {element}, Data type: {type(element)}\")\n\n# Print data type of each element in array_list after the dtype change\nprint(\"\\narray_list elements after converting to dtype=int:\")\nfor element in array_list:\n    print(f\"Element: {element}, Data type: {type(element)}\")\n",
      "metadata": {
        "trusted": true
      },
      "outputs": [
        {
          "name": "stdout",
          "text": "Original list_ elements and their types:\nElement: 1.5, Data type: <class 'float'>\nElement: 2.3, Data type: <class 'float'>\nElement: 3.8, Data type: <class 'float'>\nElement: 4.1, Data type: <class 'float'>\nElement: 5.7, Data type: <class 'float'>\n\narray_list elements after converting to dtype=int:\nElement: 1, Data type: <class 'numpy.int32'>\nElement: 2, Data type: <class 'numpy.int32'>\nElement: 3, Data type: <class 'numpy.int32'>\nElement: 4, Data type: <class 'numpy.int32'>\nElement: 5, Data type: <class 'numpy.int32'>\n",
          "output_type": "stream"
        }
      ],
      "execution_count": 8
    },
    {
      "cell_type": "code",
      "source": "#Q4. Write a code to find the following characteristics of variable, num_array:\n#(i) shape\n#(ii) size",
      "metadata": {
        "trusted": true
      },
      "outputs": [],
      "execution_count": 9
    },
    {
      "cell_type": "code",
      "source": "import numpy as np\n\n# Example num_array\nnum_array = np.array([[1, 2, 3], [4, 5, 6]])\n\n# Find and print the shape of num_array\nprint(f\"Shape of num_array: {num_array.shape}\")\n\n# Find and print the size of num_array\nprint(f\"Size of num_array: {num_array.size}\")\n",
      "metadata": {
        "trusted": true
      },
      "outputs": [
        {
          "name": "stdout",
          "text": "Shape of num_array: (2, 3)\nSize of num_array: 6\n",
          "output_type": "stream"
        }
      ],
      "execution_count": 10
    },
    {
      "cell_type": "code",
      "source": "#Q5. Write a code to create numpy array of 3*3 matrix containing zeros only, using a numpy array\n#creation function.\n#[Hint: The size of the array will be 9 and the shape will be (3,3).]",
      "metadata": {
        "trusted": true
      },
      "outputs": [],
      "execution_count": 11
    },
    {
      "cell_type": "code",
      "source": "import numpy as np\n\n# Create a 3x3 matrix of zeros\nzero_matrix = np.zeros((3, 3))\n\n# Print the zero matrix\nprint(\"3x3 Zero Matrix:\")\nprint(zero_matrix)\n",
      "metadata": {
        "trusted": true
      },
      "outputs": [
        {
          "name": "stdout",
          "text": "3x3 Zero Matrix:\n[[0. 0. 0.]\n [0. 0. 0.]\n [0. 0. 0.]]\n",
          "output_type": "stream"
        }
      ],
      "execution_count": 12
    },
    {
      "cell_type": "code",
      "source": "#Q6. Create an identity matrix of shape (5,5) using numpy functions?\n#[Hint: An identity matrix is a matrix containing 1 diagonally and other elements will be 0.]",
      "metadata": {
        "trusted": true
      },
      "outputs": [],
      "execution_count": 13
    },
    {
      "cell_type": "code",
      "source": "import numpy as np\n\n# Create a 5x5 identity matrix\nidentity_matrix = np.identity(5)\n\n# Print the identity matrix\nprint(\"5x5 Identity Matrix:\")\nprint(identity_matrix)\n",
      "metadata": {
        "trusted": true
      },
      "outputs": [
        {
          "name": "stdout",
          "text": "5x5 Identity Matrix:\n[[1. 0. 0. 0. 0.]\n [0. 1. 0. 0. 0.]\n [0. 0. 1. 0. 0.]\n [0. 0. 0. 1. 0.]\n [0. 0. 0. 0. 1.]]\n",
          "output_type": "stream"
        }
      ],
      "execution_count": 14
    },
    {
      "cell_type": "code",
      "source": "",
      "metadata": {
        "trusted": true
      },
      "outputs": [],
      "execution_count": null
    }
  ]
}